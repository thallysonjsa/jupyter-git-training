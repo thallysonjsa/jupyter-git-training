{
 "cells": [
  {
   "cell_type": "markdown",
   "metadata": {},
   "source": [
    "Cada palavra é um vetor de N dimensões (geralmente N = 100 ou N = 300).\n",
    "\n",
    "Os vetores têm sentido! É possível representar palavras com sentido contrário agora."
   ]
  },
  {
   "cell_type": "markdown",
   "metadata": {},
   "source": [
    "A melhor maneira de entender o sentido de uma palavra é analisando o seu contexto. No Word Embeddings nós faremos isso usando a técnica do Skip-Gram."
   ]
  },
  {
   "cell_type": "markdown",
   "metadata": {},
   "source": [
    "Exemplo: *The external scars tell only part of the story.*"
   ]
  },
  {
   "cell_type": "markdown",
   "metadata": {},
   "source": [
    "Cada palavra vai ser representada num vetor de N dimensões (N = 100 nesse exemplo) com valores aleatórios pra cada uma das dimensões. A ideia do Skip-Gram é semelhante a de N-Grams, onde ele vai pegar a janela de contexto das palavras antes e depois da palavra atual, usando os vetores das mesmas. Por exemplo, uma janela de (1,1) começando em **external**, vai olhar para o vetor da palavra **The** e **scars** pra analisar o contexto de **external** e usar isso para atualizar o vetor com seus valores. E isso ocorre pra todas as palavras no documento, ou seja, quanto mais texto (que possua sentido) mais coerente serão os Embeddings."
   ]
  },
  {
   "cell_type": "markdown",
   "metadata": {},
   "source": [
    "O skip-gram pode mudar o tamanho da janela para bi-grams, por exemplo. E o mesmo procedimento será feito, só que a janela de contexto é aumentada para os vetores das **duas** palavras de antes e depois."
   ]
  },
  {
   "cell_type": "code",
   "execution_count": 1,
   "metadata": {},
   "outputs": [],
   "source": [
    "import pandas as pd\n",
    "import numpy as np\n",
    "from gensim.models import Word2Vec"
   ]
  },
  {
   "cell_type": "code",
   "execution_count": 2,
   "metadata": {},
   "outputs": [],
   "source": [
    "exemplos = [\n",
    "    \"The external scars tell only part of the story.\",\n",
    "    \"The book is on the table\",\n",
    "    \"Today is a sunny day\",\n",
    "    \"I'm happy to see you\"\n",
    "]"
   ]
  },
  {
   "cell_type": "markdown",
   "metadata": {},
   "source": [
    "É necessário realizar a quebra das frases em palavras para esse modelo **Word2Vec**."
   ]
  },
  {
   "cell_type": "code",
   "execution_count": 3,
   "metadata": {},
   "outputs": [
    {
     "data": {
      "text/plain": [
       "[['The', 'external', 'scars', 'tell', 'only', 'part', 'of', 'the', 'story.'],\n",
       " ['The', 'book', 'is', 'on', 'the', 'table'],\n",
       " ['Today', 'is', 'a', 'sunny', 'day'],\n",
       " [\"I'm\", 'happy', 'to', 'see', 'you']]"
      ]
     },
     "execution_count": 3,
     "metadata": {},
     "output_type": "execute_result"
    }
   ],
   "source": [
    "# Para cada exemplo dentro da lista de exemplos\n",
    "for i in range(len(exemplos)):\n",
    "    # O exemplo atual é uma frase e será splitado por ' '\n",
    "    # tornando em uma lista de palavras separadas\n",
    "    # e será atualizado na própria lista.\n",
    "    exemplos[i] = exemplos[i].split(' ')\n",
    "exemplos"
   ]
  },
  {
   "cell_type": "code",
   "execution_count": 21,
   "metadata": {},
   "outputs": [],
   "source": [
    "model =  Word2Vec(exemplos, size=300, window=5, min_count=1, workers=2)"
   ]
  },
  {
   "cell_type": "code",
   "execution_count": 22,
   "metadata": {},
   "outputs": [
    {
     "name": "stderr",
     "output_type": "stream",
     "text": [
      "C:\\Users\\Thallyson\\Anaconda3\\lib\\site-packages\\ipykernel_launcher.py:1: DeprecationWarning: Call to deprecated `__getitem__` (Method will be removed in 4.0.0, use self.wv.__getitem__() instead).\n",
      "  \"\"\"Entry point for launching an IPython kernel.\n"
     ]
    },
    {
     "data": {
      "text/plain": [
       "array([-1.1935349e-03,  1.4984226e-03, -1.6355427e-03, -1.1101502e-03,\n",
       "        2.2430083e-04,  9.0551417e-04,  6.7524292e-04, -8.2292693e-04,\n",
       "       -9.5842563e-04, -1.2412198e-03,  1.1157120e-03, -1.3672208e-03,\n",
       "       -2.4002213e-04, -2.0368701e-04,  1.0915842e-03,  2.9028434e-04,\n",
       "       -7.0928567e-04,  1.5390419e-03, -1.1376572e-03,  1.5466325e-03,\n",
       "       -1.6397645e-03,  9.0512179e-04,  6.7506783e-04, -3.4491844e-05,\n",
       "        1.3932100e-03,  2.0501750e-05, -1.0453670e-03,  5.6158926e-04,\n",
       "       -7.0034468e-04,  9.0289488e-04, -4.1511978e-04, -1.1471860e-03,\n",
       "       -3.8170654e-04, -2.6539408e-04, -1.5094976e-03, -1.3892283e-03,\n",
       "        1.3699837e-03, -3.2199299e-04, -1.2316778e-03, -1.0453312e-03,\n",
       "       -1.0668490e-03,  7.5468014e-04,  1.3804679e-03,  1.3764604e-03,\n",
       "       -9.2329463e-04,  7.4838579e-04,  1.1860004e-03,  1.1423572e-03,\n",
       "       -3.3921801e-04, -9.0168708e-04,  4.6480581e-04, -3.4476968e-04,\n",
       "       -9.0470130e-04,  1.0621877e-03,  5.3886604e-04, -8.1429796e-05,\n",
       "       -1.0140178e-03, -7.4153690e-04, -6.8951027e-05, -1.6883058e-04,\n",
       "        1.2222083e-03,  1.4998192e-03, -4.0515067e-04,  1.0962072e-03,\n",
       "       -1.6253702e-03, -1.2016547e-03,  1.1865004e-03, -2.8534781e-04,\n",
       "       -4.3256491e-04, -1.4701299e-03,  1.0580704e-04,  1.5231294e-03,\n",
       "        7.5844018e-04, -1.5631466e-03, -4.7409683e-04,  1.3343925e-03,\n",
       "       -1.0119262e-03,  1.2757147e-03, -6.7537569e-04, -2.7519316e-04,\n",
       "        8.6176395e-04,  1.3802112e-03,  6.2063674e-04,  1.5039452e-03,\n",
       "        1.0385610e-03, -1.2442661e-03, -3.4589987e-04,  2.8120144e-04,\n",
       "       -5.6532305e-04,  1.6308768e-03,  8.4790232e-04,  7.8829692e-04,\n",
       "        1.1099280e-03, -1.3691833e-04,  5.2321021e-04, -1.3535288e-03,\n",
       "        1.4511176e-03, -1.2091554e-03,  1.2369313e-03,  3.7777054e-04,\n",
       "       -1.5233720e-03,  2.9918744e-04, -1.1374229e-03,  4.0897641e-05,\n",
       "        1.2726964e-03, -1.4222536e-03, -7.7727158e-04,  1.5479682e-03,\n",
       "        1.5999117e-03,  6.5030204e-04, -7.1271585e-04, -7.7258091e-04,\n",
       "        1.6512180e-03, -9.8685035e-04, -1.4901632e-03, -4.8999593e-04,\n",
       "       -2.8717704e-04,  1.2595586e-03, -6.5082405e-04,  1.4859731e-03,\n",
       "       -6.1475573e-04,  9.9605706e-04,  1.5375331e-03,  5.6600635e-04,\n",
       "       -1.5509941e-04,  1.4135689e-03,  2.0133956e-04, -1.6395255e-03,\n",
       "       -1.3422349e-03, -1.4252444e-03, -5.7765783e-04,  9.0247946e-04,\n",
       "       -1.5619758e-03,  7.7474315e-04, -6.3823385e-04,  8.4833195e-04,\n",
       "       -2.5363811e-04, -5.8184401e-04,  1.2086239e-03,  1.6644617e-04,\n",
       "       -1.2501655e-04, -7.2126370e-04, -4.1925538e-04, -3.1308428e-04,\n",
       "        7.6390273e-04,  8.5928710e-04, -1.4120181e-03, -3.9303396e-04,\n",
       "       -1.1687441e-03, -7.2180963e-04, -1.4741371e-03, -5.7778746e-04,\n",
       "       -5.8568304e-04, -3.3187843e-04,  9.8492112e-04,  3.2846737e-04,\n",
       "       -1.2098151e-03, -3.3272774e-04,  1.4124358e-03, -8.3745591e-04,\n",
       "        1.4853769e-03, -6.6414772e-04,  1.9934443e-04, -6.3321633e-05,\n",
       "        1.5221282e-03,  6.8612862e-04,  1.2213453e-03, -5.8509386e-04,\n",
       "       -1.1276224e-03,  1.5106934e-04, -1.0942089e-03, -1.6002831e-03,\n",
       "        1.0412671e-03,  5.1301310e-04, -5.2751344e-05, -1.3778156e-03,\n",
       "       -1.4760875e-03,  1.3068836e-03,  3.0168775e-04,  4.8320627e-04,\n",
       "        4.3874137e-05, -5.2975019e-04,  1.1169739e-03,  4.6788773e-04,\n",
       "        5.1375955e-06, -1.2828514e-03,  1.0429159e-03,  1.5497978e-03,\n",
       "        1.1752853e-03, -5.7959370e-04,  8.7368919e-04, -6.3728099e-04,\n",
       "       -1.8761554e-04, -8.8117871e-04,  1.1769471e-03,  8.9770049e-04,\n",
       "        8.7265827e-04,  8.0687128e-04,  8.0072851e-04,  1.1851619e-03,\n",
       "       -2.9438574e-04, -1.2579217e-03, -1.8244995e-04,  5.8679632e-04,\n",
       "        3.8258976e-04,  1.2359578e-03, -2.2034122e-04,  5.4343196e-04,\n",
       "       -1.1020302e-04, -7.6215219e-04,  7.3419127e-04, -1.4339805e-03,\n",
       "       -1.5124837e-03,  4.5451842e-04,  8.7345106e-04, -6.9847272e-04,\n",
       "        9.0550102e-04, -5.4143107e-04,  1.3856016e-03,  3.1071005e-04,\n",
       "       -1.5245849e-03, -5.0537923e-04, -5.9912301e-04, -5.5864110e-04,\n",
       "        1.3931392e-03, -6.6123926e-04,  6.4457819e-04,  7.0099346e-04,\n",
       "        5.4292561e-04, -8.4823972e-05, -1.1929701e-03, -2.3456653e-04,\n",
       "        1.6012722e-04, -4.4727186e-04,  1.0424281e-03,  5.6483259e-04,\n",
       "        7.5238867e-04, -6.9766765e-04, -3.3137790e-04, -1.4443764e-03,\n",
       "        1.0465359e-03,  8.5173489e-04,  1.6349930e-03, -7.1473059e-04,\n",
       "        9.3753845e-04,  1.6143102e-03, -1.4300451e-03,  1.5487910e-03,\n",
       "        1.4374723e-03, -1.4480810e-04,  5.3431292e-04,  1.7878858e-04,\n",
       "       -4.9106171e-04,  1.3411719e-03, -4.8227009e-04,  9.3169126e-04,\n",
       "        5.2856206e-04,  6.7962561e-04,  6.0118560e-04, -1.9938646e-04,\n",
       "        4.7940738e-04, -1.1129560e-03, -5.2104943e-04,  9.5403427e-04,\n",
       "        1.0267417e-03, -7.7776343e-04, -1.6050813e-03, -3.6094896e-04,\n",
       "       -6.8147911e-04,  3.7204972e-04,  1.5459403e-06,  3.5812485e-04,\n",
       "       -7.7516347e-04,  3.2319751e-04, -1.0200000e-03,  5.8394612e-04,\n",
       "        8.5515564e-04, -4.6886408e-04,  8.8021555e-04, -1.5056102e-03,\n",
       "       -1.3200630e-03, -9.1093569e-04,  3.0949165e-04,  1.3464584e-03,\n",
       "       -1.1702941e-03, -1.2092602e-03,  8.8343228e-04, -1.3958617e-03,\n",
       "       -5.9150370e-05,  1.5671951e-04, -1.4160635e-03,  1.5480167e-04,\n",
       "       -8.3518901e-04, -5.6315126e-04,  8.0641103e-04, -3.2143915e-04,\n",
       "       -3.3039387e-04,  1.1295928e-03,  1.2970227e-03,  1.6257608e-03],\n",
       "      dtype=float32)"
      ]
     },
     "execution_count": 22,
     "metadata": {},
     "output_type": "execute_result"
    }
   ],
   "source": [
    "model['The']"
   ]
  },
  {
   "cell_type": "markdown",
   "metadata": {},
   "source": [
    "Nós poderiamos ter feito toda a etapa de pré-processamento, porém nesse modelo de Embeddings, tirar stop-words, por exemplo, não é bom, pois perdemos contexto, sentido e etc, o que não ajudaria."
   ]
  },
  {
   "cell_type": "markdown",
   "metadata": {},
   "source": [
    "Para cada lista de palavras que foram transformadas em vetores, criaremos um documento."
   ]
  },
  {
   "cell_type": "code",
   "execution_count": 12,
   "metadata": {},
   "outputs": [],
   "source": [
    "from gensim.models.doc2vec import Doc2Vec, TaggedDocument"
   ]
  },
  {
   "cell_type": "code",
   "execution_count": 13,
   "metadata": {},
   "outputs": [],
   "source": [
    "documents = [TaggedDocument(doc, [i]) for i, doc in enumerate(exemplos)]"
   ]
  },
  {
   "cell_type": "code",
   "execution_count": 14,
   "metadata": {},
   "outputs": [
    {
     "data": {
      "text/plain": [
       "[TaggedDocument(words=['The', 'external', 'scars', 'tell', 'only', 'part', 'of', 'the', 'story.'], tags=[0]),\n",
       " TaggedDocument(words=['The', 'book', 'is', 'on', 'the', 'table'], tags=[1]),\n",
       " TaggedDocument(words=['Today', 'is', 'a', 'sunny', 'day'], tags=[2]),\n",
       " TaggedDocument(words=[\"I'm\", 'happy', 'to', 'see', 'you'], tags=[3])]"
      ]
     },
     "execution_count": 14,
     "metadata": {},
     "output_type": "execute_result"
    }
   ],
   "source": [
    "documents"
   ]
  },
  {
   "cell_type": "code",
   "execution_count": 26,
   "metadata": {},
   "outputs": [],
   "source": [
    "model = Doc2Vec(documents, vector_size=5, window=2, min_count=1, workers=4)"
   ]
  },
  {
   "cell_type": "code",
   "execution_count": 28,
   "metadata": {},
   "outputs": [
    {
     "data": {
      "text/plain": [
       "array([ 0.02526971, -0.02562221, -0.00999885, -0.03328141,  0.08449798],\n",
       "      dtype=float32)"
      ]
     },
     "execution_count": 28,
     "metadata": {},
     "output_type": "execute_result"
    }
   ],
   "source": [
    "model.infer_vector(['The', 'love'])"
   ]
  },
  {
   "cell_type": "code",
   "execution_count": null,
   "metadata": {},
   "outputs": [],
   "source": []
  }
 ],
 "metadata": {
  "kernelspec": {
   "display_name": "Python 3",
   "language": "python",
   "name": "python3"
  },
  "language_info": {
   "codemirror_mode": {
    "name": "ipython",
    "version": 3
   },
   "file_extension": ".py",
   "mimetype": "text/x-python",
   "name": "python",
   "nbconvert_exporter": "python",
   "pygments_lexer": "ipython3",
   "version": "3.7.3"
  }
 },
 "nbformat": 4,
 "nbformat_minor": 2
}
